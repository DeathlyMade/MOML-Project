{
  "cells": [
    {
      "cell_type": "code",
      "source": [
        "!pip install lifelines"
      ],
      "metadata": {
        "colab": {
          "base_uri": "https://localhost:8080/"
        },
        "id": "JE7LVUzHRX6L",
        "outputId": "67bea23a-b377-4644-d9f0-5a5f8f385c4e"
      },
      "execution_count": 1,
      "outputs": [
        {
          "output_type": "stream",
          "name": "stdout",
          "text": [
            "Collecting lifelines\n",
            "  Downloading lifelines-0.30.0-py3-none-any.whl.metadata (3.2 kB)\n",
            "Requirement already satisfied: numpy>=1.14.0 in /usr/local/lib/python3.11/dist-packages (from lifelines) (2.0.2)\n",
            "Requirement already satisfied: scipy>=1.7.0 in /usr/local/lib/python3.11/dist-packages (from lifelines) (1.15.3)\n",
            "Requirement already satisfied: pandas>=2.1 in /usr/local/lib/python3.11/dist-packages (from lifelines) (2.2.2)\n",
            "Requirement already satisfied: matplotlib>=3.0 in /usr/local/lib/python3.11/dist-packages (from lifelines) (3.10.0)\n",
            "Requirement already satisfied: autograd>=1.5 in /usr/local/lib/python3.11/dist-packages (from lifelines) (1.8.0)\n",
            "Collecting autograd-gamma>=0.3 (from lifelines)\n",
            "  Downloading autograd-gamma-0.5.0.tar.gz (4.0 kB)\n",
            "  Preparing metadata (setup.py) ... \u001b[?25l\u001b[?25hdone\n",
            "Collecting formulaic>=0.2.2 (from lifelines)\n",
            "  Downloading formulaic-1.1.1-py3-none-any.whl.metadata (6.9 kB)\n",
            "Collecting interface-meta>=1.2.0 (from formulaic>=0.2.2->lifelines)\n",
            "  Downloading interface_meta-1.3.0-py3-none-any.whl.metadata (6.7 kB)\n",
            "Requirement already satisfied: typing-extensions>=4.2.0 in /usr/local/lib/python3.11/dist-packages (from formulaic>=0.2.2->lifelines) (4.13.2)\n",
            "Requirement already satisfied: wrapt>=1.0 in /usr/local/lib/python3.11/dist-packages (from formulaic>=0.2.2->lifelines) (1.17.2)\n",
            "Requirement already satisfied: contourpy>=1.0.1 in /usr/local/lib/python3.11/dist-packages (from matplotlib>=3.0->lifelines) (1.3.2)\n",
            "Requirement already satisfied: cycler>=0.10 in /usr/local/lib/python3.11/dist-packages (from matplotlib>=3.0->lifelines) (0.12.1)\n",
            "Requirement already satisfied: fonttools>=4.22.0 in /usr/local/lib/python3.11/dist-packages (from matplotlib>=3.0->lifelines) (4.58.0)\n",
            "Requirement already satisfied: kiwisolver>=1.3.1 in /usr/local/lib/python3.11/dist-packages (from matplotlib>=3.0->lifelines) (1.4.8)\n",
            "Requirement already satisfied: packaging>=20.0 in /usr/local/lib/python3.11/dist-packages (from matplotlib>=3.0->lifelines) (24.2)\n",
            "Requirement already satisfied: pillow>=8 in /usr/local/lib/python3.11/dist-packages (from matplotlib>=3.0->lifelines) (11.2.1)\n",
            "Requirement already satisfied: pyparsing>=2.3.1 in /usr/local/lib/python3.11/dist-packages (from matplotlib>=3.0->lifelines) (3.2.3)\n",
            "Requirement already satisfied: python-dateutil>=2.7 in /usr/local/lib/python3.11/dist-packages (from matplotlib>=3.0->lifelines) (2.9.0.post0)\n",
            "Requirement already satisfied: pytz>=2020.1 in /usr/local/lib/python3.11/dist-packages (from pandas>=2.1->lifelines) (2025.2)\n",
            "Requirement already satisfied: tzdata>=2022.7 in /usr/local/lib/python3.11/dist-packages (from pandas>=2.1->lifelines) (2025.2)\n",
            "Requirement already satisfied: six>=1.5 in /usr/local/lib/python3.11/dist-packages (from python-dateutil>=2.7->matplotlib>=3.0->lifelines) (1.17.0)\n",
            "Downloading lifelines-0.30.0-py3-none-any.whl (349 kB)\n",
            "\u001b[2K   \u001b[90m━━━━━━━━━━━━━━━━━━━━━━━━━━━━━━━━━━━━━━━━\u001b[0m \u001b[32m349.3/349.3 kB\u001b[0m \u001b[31m11.6 MB/s\u001b[0m eta \u001b[36m0:00:00\u001b[0m\n",
            "\u001b[?25hDownloading formulaic-1.1.1-py3-none-any.whl (115 kB)\n",
            "\u001b[2K   \u001b[90m━━━━━━━━━━━━━━━━━━━━━━━━━━━━━━━━━━━━━━━━\u001b[0m \u001b[32m115.7/115.7 kB\u001b[0m \u001b[31m12.5 MB/s\u001b[0m eta \u001b[36m0:00:00\u001b[0m\n",
            "\u001b[?25hDownloading interface_meta-1.3.0-py3-none-any.whl (14 kB)\n",
            "Building wheels for collected packages: autograd-gamma\n",
            "  Building wheel for autograd-gamma (setup.py) ... \u001b[?25l\u001b[?25hdone\n",
            "  Created wheel for autograd-gamma: filename=autograd_gamma-0.5.0-py3-none-any.whl size=4030 sha256=deaecfc9e18ff52aa88847081837573b218141fe022dc9e2abef7e606c3fba50\n",
            "  Stored in directory: /root/.cache/pip/wheels/8b/67/f4/2caaae2146198dcb824f31a303833b07b14a5ec863fb3acd7b\n",
            "Successfully built autograd-gamma\n",
            "Installing collected packages: interface-meta, autograd-gamma, formulaic, lifelines\n",
            "Successfully installed autograd-gamma-0.5.0 formulaic-1.1.1 interface-meta-1.3.0 lifelines-0.30.0\n"
          ]
        }
      ]
    },
    {
      "cell_type": "markdown",
      "source": [
        "# Loading the Data\n",
        "We select fields for severity of charge, number of priors, demographics, age, sex, compas scores, and whether each person was accused of a crime within two years."
      ],
      "metadata": {
        "id": "wwyLD0Fv3xEm"
      }
    },
    {
      "cell_type": "code",
      "source": [
        "import pandas as pd\n",
        "import numpy as np\n",
        "import matplotlib.pyplot as plt\n",
        "from lifelines import CoxPHFitter, KaplanMeierFitter\n",
        "import seaborn as sns\n",
        "import warnings\n",
        "\n",
        "# Suppress warnings\n",
        "warnings.filterwarnings('ignore')\n",
        "\n",
        "# 1. Load and clean data\n",
        "raw = pd.read_csv(\"./compas-scores-two-years.csv\")"
      ],
      "metadata": {
        "id": "5n634AarRLVH"
      },
      "execution_count": 2,
      "outputs": []
    },
    {
      "cell_type": "markdown",
      "source": [
        "However not all of the rows are useable for the first round of analysis.\n",
        "\n",
        "There are a number of reasons remove rows because of missing data:\n",
        "\n",
        "\n",
        "\n",
        "*   If the charge date of a defendants Compas scored crime was not within 30 days from when the person was arrested, we assume that because of data quality reasons, that we do not have the right offense.\n",
        "*   Coded the recidivist flag -- is_recid -- to be -1 if could not find a compas case at all.\n",
        "\n",
        "\n",
        "*   In a similar vein, ordinary traffic offenses -- those with a c_charge_degree of 'O' -- will not result in Jail time are removed (only two of them).\n",
        "*   Filtering the underlying data to include only those rows representing people who had either recidivated in two years, or had at least two years outside of a correctional facility.\n",
        "\n",
        "\n",
        "\n"
      ],
      "metadata": {
        "id": "99M64f674RAb"
      }
    },
    {
      "cell_type": "code",
      "source": [
        "# Select relevant columns and apply filters\n",
        "df = raw.loc[\n",
        "    (raw.days_b_screening_arrest <= 30) &\n",
        "    (raw.days_b_screening_arrest >= -30) &\n",
        "    (raw.is_recid != -1) &\n",
        "    (raw.c_charge_degree != 'O') &\n",
        "    (raw.score_text != 'N/A'),\n",
        "    ['age', 'c_charge_degree', 'race', 'age_cat', 'score_text', 'sex',\n",
        "     'priors_count', 'days_b_screening_arrest', 'decile_score',\n",
        "     'is_recid', 'two_year_recid', 'c_jail_in', 'c_jail_out']\n",
        "].copy()\n",
        "\n",
        "# 2. Basic counts and percentages\n",
        "total = len(df)\n",
        "recid_count = df.two_year_recid.sum()\n",
        "print(f\"Total records: {total}\")\n",
        "print(f\"Recidivism count: {recid_count}\")"
      ],
      "metadata": {
        "id": "sdXqCQeN4MfY",
        "colab": {
          "base_uri": "https://localhost:8080/"
        },
        "outputId": "0c41d16e-e8b0-4ab5-d3f6-a1d0c9d53b11"
      },
      "execution_count": 3,
      "outputs": [
        {
          "output_type": "stream",
          "name": "stdout",
          "text": [
            "Total records: 6172\n",
            "Recidivism count: 2809\n"
          ]
        }
      ]
    },
    {
      "cell_type": "markdown",
      "source": [
        "Higher COMPAS scores are slightly correlated with a longer length of stay."
      ],
      "metadata": {
        "id": "bew2DD665fJK"
      }
    },
    {
      "cell_type": "code",
      "source": [
        "df['length_of_stay'] = pd.to_numeric(pd.to_datetime(df['c_jail_out']) - pd.to_datetime(df['c_jail_in']))\n",
        "# Convert timedelta to days\n",
        "df['length_of_stay'] = (pd.to_datetime(df['c_jail_out']) - pd.to_datetime(df['c_jail_in'])).dt.days\n",
        "# The .dt.days accessor is used directly on the timedelta result\n",
        "correlation = df['length_of_stay'].corr(df['decile_score'])\n",
        "print(f\"Correlation between length of stay and decile score: {correlation}\")\n",
        "\n",
        "df[\"age_cat\"].value_counts()"
      ],
      "metadata": {
        "id": "yVw1kafZ5Zob",
        "colab": {
          "base_uri": "https://localhost:8080/",
          "height": 227
        },
        "outputId": "eb559945-b603-42c9-be91-cbbb157f3e27"
      },
      "execution_count": 4,
      "outputs": [
        {
          "output_type": "stream",
          "name": "stdout",
          "text": [
            "Correlation between length of stay and decile score: 0.20747808478031807\n"
          ]
        },
        {
          "output_type": "execute_result",
          "data": {
            "text/plain": [
              "age_cat\n",
              "25 - 45            3532\n",
              "Less than 25       1347\n",
              "Greater than 45    1293\n",
              "Name: count, dtype: int64"
            ],
            "text/html": [
              "<div>\n",
              "<style scoped>\n",
              "    .dataframe tbody tr th:only-of-type {\n",
              "        vertical-align: middle;\n",
              "    }\n",
              "\n",
              "    .dataframe tbody tr th {\n",
              "        vertical-align: top;\n",
              "    }\n",
              "\n",
              "    .dataframe thead th {\n",
              "        text-align: right;\n",
              "    }\n",
              "</style>\n",
              "<table border=\"1\" class=\"dataframe\">\n",
              "  <thead>\n",
              "    <tr style=\"text-align: right;\">\n",
              "      <th></th>\n",
              "      <th>count</th>\n",
              "    </tr>\n",
              "    <tr>\n",
              "      <th>age_cat</th>\n",
              "      <th></th>\n",
              "    </tr>\n",
              "  </thead>\n",
              "  <tbody>\n",
              "    <tr>\n",
              "      <th>25 - 45</th>\n",
              "      <td>3532</td>\n",
              "    </tr>\n",
              "    <tr>\n",
              "      <th>Less than 25</th>\n",
              "      <td>1347</td>\n",
              "    </tr>\n",
              "    <tr>\n",
              "      <th>Greater than 45</th>\n",
              "      <td>1293</td>\n",
              "    </tr>\n",
              "  </tbody>\n",
              "</table>\n",
              "</div><br><label><b>dtype:</b> int64</label>"
            ]
          },
          "metadata": {},
          "execution_count": 4
        }
      ]
    },
    {
      "cell_type": "code",
      "source": [
        "df[\"race\"].value_counts()"
      ],
      "metadata": {
        "colab": {
          "base_uri": "https://localhost:8080/",
          "height": 304
        },
        "id": "k39s0zct7Yhh",
        "outputId": "8d2d8353-3743-4231-b4f1-2fd387c041ff"
      },
      "execution_count": 5,
      "outputs": [
        {
          "output_type": "execute_result",
          "data": {
            "text/plain": [
              "race\n",
              "African-American    3175\n",
              "Caucasian           2103\n",
              "Hispanic             509\n",
              "Other                343\n",
              "Asian                 31\n",
              "Native American       11\n",
              "Name: count, dtype: int64"
            ],
            "text/html": [
              "<div>\n",
              "<style scoped>\n",
              "    .dataframe tbody tr th:only-of-type {\n",
              "        vertical-align: middle;\n",
              "    }\n",
              "\n",
              "    .dataframe tbody tr th {\n",
              "        vertical-align: top;\n",
              "    }\n",
              "\n",
              "    .dataframe thead th {\n",
              "        text-align: right;\n",
              "    }\n",
              "</style>\n",
              "<table border=\"1\" class=\"dataframe\">\n",
              "  <thead>\n",
              "    <tr style=\"text-align: right;\">\n",
              "      <th></th>\n",
              "      <th>count</th>\n",
              "    </tr>\n",
              "    <tr>\n",
              "      <th>race</th>\n",
              "      <th></th>\n",
              "    </tr>\n",
              "  </thead>\n",
              "  <tbody>\n",
              "    <tr>\n",
              "      <th>African-American</th>\n",
              "      <td>3175</td>\n",
              "    </tr>\n",
              "    <tr>\n",
              "      <th>Caucasian</th>\n",
              "      <td>2103</td>\n",
              "    </tr>\n",
              "    <tr>\n",
              "      <th>Hispanic</th>\n",
              "      <td>509</td>\n",
              "    </tr>\n",
              "    <tr>\n",
              "      <th>Other</th>\n",
              "      <td>343</td>\n",
              "    </tr>\n",
              "    <tr>\n",
              "      <th>Asian</th>\n",
              "      <td>31</td>\n",
              "    </tr>\n",
              "    <tr>\n",
              "      <th>Native American</th>\n",
              "      <td>11</td>\n",
              "    </tr>\n",
              "  </tbody>\n",
              "</table>\n",
              "</div><br><label><b>dtype:</b> int64</label>"
            ]
          },
          "metadata": {},
          "execution_count": 5
        }
      ]
    },
    {
      "cell_type": "code",
      "source": [
        "print(f\"Recidivism rate: {recid_count/total*100:.2f}%\")\n",
        "\n",
        "print(\"Black defendants: %.2f%%\" %            (3175 / 6172 * 100))\n",
        "print(\"White defendants: %.2f%%\" %            (2103 / 6172 * 100))\n",
        "print(\"Hispanic defendants: %.2f%%\" %         (509  / 6172 * 100))\n",
        "print(\"Asian defendants: %.2f%%\" %            (31   / 6172 * 100))\n",
        "print(\"Native American defendants: %.2f%%\" %  (11   / 6172 * 100))\n",
        "\n",
        "# 3. Distribution by decile_score for African-American vs Caucasian\n",
        "for race_label in ['African-American', 'Caucasian']:\n",
        "    plt.figure()\n",
        "    subset = df[df.race == race_label]\n",
        "    sns.countplot(x='decile_score', data=subset, order=sorted(df.decile_score.unique()))\n",
        "    plt.title(f\"Decile Score Distribution: {race_label}\")\n",
        "    plt.xlabel('Decile Score')\n",
        "    plt.ylabel('Count')\n",
        "    plt.tight_layout()\n",
        "    plt.show()\n"
      ],
      "metadata": {
        "colab": {
          "base_uri": "https://localhost:8080/",
          "height": 1000
        },
        "id": "a0T26r_rRbt8",
        "outputId": "a1e7b923-b3a0-4dc0-add7-b24ba6d8b1db"
      },
      "execution_count": 6,
      "outputs": [
        {
          "output_type": "stream",
          "name": "stdout",
          "text": [
            "Recidivism rate: 45.51%\n",
            "Black defendants: 51.44%\n",
            "White defendants: 34.07%\n",
            "Hispanic defendants: 8.25%\n",
            "Asian defendants: 0.50%\n",
            "Native American defendants: 0.18%\n"
          ]
        },
        {
          "output_type": "display_data",
          "data": {
            "text/plain": [
              "<Figure size 640x480 with 1 Axes>"
            ],
            "image/png": "[encoded data removed]"
          },
          "metadata": {}
        },
        {
          "output_type": "display_data",
          "data": {
            "text/plain": [
              "<Figure size 640x480 with 1 Axes>"
            ],
            "image/png": "[encoded data removed]"
          },
          "metadata": {}
        }
      ]
    },
    {
      "cell_type": "code",
      "source": [
        "cross_tab = pd.crosstab(df['decile_score'], df['race'])\n",
        "cross_tab"
      ],
      "metadata": {
        "colab": {
          "base_uri": "https://localhost:8080/",
          "height": 394
        },
        "id": "cnk426wx83GQ",
        "outputId": "be9dab67-d75e-4f70-cf6b-cb45fb5a0c4a"
      },
      "execution_count": 7,
      "outputs": [
        {
          "output_type": "execute_result",
          "data": {
            "text/plain": [
              "race          African-American  Asian  Caucasian  Hispanic  Native American  \\\n",
              "decile_score                                                                  \n",
              "1                          365     15        605       159                0   \n",
              "2                          346      4        321        89                2   \n",
              "3                          298      5        238        73                1   \n",
              "4                          337      0        243        47                0   \n",
              "5                          323      1        200        39                0   \n",
              "6                          318      2        160        27                2   \n",
              "7                          343      1        113        28                2   \n",
              "8                          301      2         96        14                0   \n",
              "9                          317      0         77        17                2   \n",
              "10                         227      1         50        16                2   \n",
              "\n",
              "race          Other  \n",
              "decile_score         \n",
              "1               142  \n",
              "2                60  \n",
              "3                32  \n",
              "4                39  \n",
              "5                19  \n",
              "6                20  \n",
              "7                 9  \n",
              "8                 7  \n",
              "9                 7  \n",
              "10                8  "
            ],
            "text/html": [
              "\n",
              "  <div id=\"df-5562891f-22ff-4630-9673-a05af664fa15\" class=\"colab-df-container\">\n",
              "    <div>\n",
              "<style scoped>\n",
              "    .dataframe tbody tr th:only-of-type {\n",
              "        vertical-align: middle;\n",
              "    }\n",
              "\n",
              "    .dataframe tbody tr th {\n",
              "        vertical-align: top;\n",
              "    }\n",
              "\n",
              "    .dataframe thead th {\n",
              "        text-align: right;\n",
              "    }\n",
              "</style>\n",
              "<table border=\"1\" class=\"dataframe\">\n",
              "  <thead>\n",
              "    <tr style=\"text-align: right;\">\n",
              "      <th>race</th>\n",
              "      <th>African-American</th>\n",
              "      <th>Asian</th>\n",
              "      <th>Caucasian</th>\n",
              "      <th>Hispanic</th>\n",
              "      <th>Native American</th>\n",
              "      <th>Other</th>\n",
              "    </tr>\n",
              "    <tr>\n",
              "      <th>decile_score</th>\n",
              "      <th></th>\n",
              "      <th></th>\n",
              "      <th></th>\n",
              "      <th></th>\n",
              "      <th></th>\n",
              "      <th></th>\n",
              "    </tr>\n",
              "  </thead>\n",
              "  <tbody>\n",
              "    <tr>\n",
              "      <th>1</th>\n",
              "      <td>365</td>\n",
              "      <td>15</td>\n",
              "      <td>605</td>\n",
              "      <td>159</td>\n",
              "      <td>0</td>\n",
              "      <td>142</td>\n",
              "    </tr>\n",
              "    <tr>\n",
              "      <th>2</th>\n",
              "      <td>346</td>\n",
              "      <td>4</td>\n",
              "      <td>321</td>\n",
              "      <td>89</td>\n",
              "      <td>2</td>\n",
              "      <td>60</td>\n",
              "    </tr>\n",
              "    <tr>\n",
              "      <th>3</th>\n",
              "      <td>298</td>\n",
              "      <td>5</td>\n",
              "      <td>238</td>\n",
              "      <td>73</td>\n",
              "      <td>1</td>\n",
              "      <td>32</td>\n",
              "    </tr>\n",
              "    <tr>\n",
              "      <th>4</th>\n",
              "      <td>337</td>\n",
              "      <td>0</td>\n",
              "      <td>243</td>\n",
              "      <td>47</td>\n",
              "      <td>0</td>\n",
              "      <td>39</td>\n",
              "    </tr>\n",
              "    <tr>\n",
              "      <th>5</th>\n",
              "      <td>323</td>\n",
              "      <td>1</td>\n",
              "      <td>200</td>\n",
              "      <td>39</td>\n",
              "      <td>0</td>\n",
              "      <td>19</td>\n",
              "    </tr>\n",
              "    <tr>\n",
              "      <th>6</th>\n",
              "      <td>318</td>\n",
              "      <td>2</td>\n",
              "      <td>160</td>\n",
              "      <td>27</td>\n",
              "      <td>2</td>\n",
              "      <td>20</td>\n",
              "    </tr>\n",
              "    <tr>\n",
              "      <th>7</th>\n",
              "      <td>343</td>\n",
              "      <td>1</td>\n",
              "      <td>113</td>\n",
              "      <td>28</td>\n",
              "      <td>2</td>\n",
              "      <td>9</td>\n",
              "    </tr>\n",
              "    <tr>\n",
              "      <th>8</th>\n",
              "      <td>301</td>\n",
              "      <td>2</td>\n",
              "      <td>96</td>\n",
              "      <td>14</td>\n",
              "      <td>0</td>\n",
              "      <td>7</td>\n",
              "    </tr>\n",
              "    <tr>\n",
              "      <th>9</th>\n",
              "      <td>317</td>\n",
              "      <td>0</td>\n",
              "      <td>77</td>\n",
              "      <td>17</td>\n",
              "      <td>2</td>\n",
              "      <td>7</td>\n",
              "    </tr>\n",
              "    <tr>\n",
              "      <th>10</th>\n",
              "      <td>227</td>\n",
              "      <td>1</td>\n",
              "      <td>50</td>\n",
              "      <td>16</td>\n",
              "      <td>2</td>\n",
              "      <td>8</td>\n",
              "    </tr>\n",
              "  </tbody>\n",
              "</table>\n",
              "</div>\n",
              "    <div class=\"colab-df-buttons\">\n",
              "\n",
              "  <div class=\"colab-df-container\">\n",
              "    <button class=\"colab-df-convert\" onclick=\"convertToInteractive('df-5562891f-22ff-4630-9673-a05af664fa15')\"\n",
              "            title=\"Convert this dataframe to an interactive table.\"\n",
              "            style=\"display:none;\">\n",
              "\n",
              "  <svg xmlns=\"http://www.w3.org/2000/svg\" height=\"24px\" viewBox=\"0 -960 960 960\">\n",
              "    <path d=\"M120-120v-720h720v720H120Zm60-500h600v-160H180v160Zm220 220h160v-160H400v160Zm0 220h160v-160H400v160ZM180-400h160v-160H180v160Zm440 0h160v-160H620v160ZM180-180h160v-160H180v160Zm440 0h160v-160H620v160Z\"/>\n",
              "  </svg>\n",
              "    </button>\n",
              "\n",
              "  <style>\n",
              "    .colab-df-container {\n",
              "      display:flex;\n",
              "      gap: 12px;\n",
              "    }\n",
              "\n",
              "    .colab-df-convert {\n",
              "      background-color: #E8F0FE;\n",
              "      border: none;\n",
              "      border-radius: 50%;\n",
              "      cursor: pointer;\n",
              "      display: none;\n",
              "      fill: #1967D2;\n",
              "      height: 32px;\n",
              "      padding: 0 0 0 0;\n",
              "      width: 32px;\n",
              "    }\n",
              "\n",
              "    .colab-df-convert:hover {\n",
              "      background-color: #E2EBFA;\n",
              "      box-shadow: 0px 1px 2px rgba(60, 64, 67, 0.3), 0px 1px 3px 1px rgba(60, 64, 67, 0.15);\n",
              "      fill: #174EA6;\n",
              "    }\n",
              "\n",
              "    .colab-df-buttons div {\n",
              "      margin-bottom: 4px;\n",
              "    }\n",
              "\n",
              "    [theme=dark] .colab-df-convert {\n",
              "      background-color: #3B4455;\n",
              "      fill: #D2E3FC;\n",
              "    }\n",
              "\n",
              "    [theme=dark] .colab-df-convert:hover {\n",
              "      background-color: #434B5C;\n",
              "      box-shadow: 0px 1px 3px 1px rgba(0, 0, 0, 0.15);\n",
              "      filter: drop-shadow(0px 1px 2px rgba(0, 0, 0, 0.3));\n",
              "      fill: #FFFFFF;\n",
              "    }\n",
              "  </style>\n",
              "\n",
              "    <script>\n",
              "      const buttonEl =\n",
              "        document.querySelector('#df-5562891f-22ff-4630-9673-a05af664fa15 button.colab-df-convert');\n",
              "      buttonEl.style.display =\n",
              "        google.colab.kernel.accessAllowed ? 'block' : 'none';\n",
              "\n",
              "      async function convertToInteractive(key) {\n",
              "        const element = document.querySelector('#df-5562891f-22ff-4630-9673-a05af664fa15');\n",
              "        const dataTable =\n",
              "          await google.colab.kernel.invokeFunction('convertToInteractive',\n",
              "                                                    [key], {});\n",
              "        if (!dataTable) return;\n",
              "\n",
              "        const docLinkHtml = 'Like what you see? Visit the ' +\n",
              "          '<a target=\"_blank\" href=https://colab.research.google.com/notebooks/data_table.ipynb>data table notebook</a>'\n",
              "          + ' to learn more about interactive tables.';\n",
              "        element.innerHTML = '';\n",
              "        dataTable['output_type'] = 'display_data';\n",
              "        await google.colab.output.renderOutput(dataTable, element);\n",
              "        const docLink = document.createElement('div');\n",
              "        docLink.innerHTML = docLinkHtml;\n",
              "        element.appendChild(docLink);\n",
              "      }\n",
              "    </script>\n",
              "  </div>\n",
              "\n",
              "\n",
              "    <div id=\"df-a4d9035e-79bb-4649-b412-322b8e928b4a\">\n",
              "      <button class=\"colab-df-quickchart\" onclick=\"quickchart('df-a4d9035e-79bb-4649-b412-322b8e928b4a')\"\n",
              "                title=\"Suggest charts\"\n",
              "                style=\"display:none;\">\n",
              "\n",
              "<svg xmlns=\"http://www.w3.org/2000/svg\" height=\"24px\"viewBox=\"0 0 24 24\"\n",
              "     width=\"24px\">\n",
              "    <g>\n",
              "        <path d=\"M19 3H5c-1.1 0-2 .9-2 2v14c0 1.1.9 2 2 2h14c1.1 0 2-.9 2-2V5c0-1.1-.9-2-2-2zM9 17H7v-7h2v7zm4 0h-2V7h2v10zm4 0h-2v-4h2v4z\"/>\n",
              "    </g>\n",
              "</svg>\n",
              "      </button>\n",
              "\n",
              "<style>\n",
              "  .colab-df-quickchart {\n",
              "      --bg-color: #E8F0FE;\n",
              "      --fill-color: #1967D2;\n",
              "      --hover-bg-color: #E2EBFA;\n",
              "      --hover-fill-color: #174EA6;\n",
              "      --disabled-fill-color: #AAA;\n",
              "      --disabled-bg-color: #DDD;\n",
              "  }\n",
              "\n",
              "  [theme=dark] .colab-df-quickchart {\n",
              "      --bg-color: #3B4455;\n",
              "      --fill-color: #D2E3FC;\n",
              "      --hover-bg-color: #434B5C;\n",
              "      --hover-fill-color: #FFFFFF;\n",
              "      --disabled-bg-color: #3B4455;\n",
              "      --disabled-fill-color: #666;\n",
              "  }\n",
              "\n",
              "  .colab-df-quickchart {\n",
              "    background-color: var(--bg-color);\n",
              "    border: none;\n",
              "    border-radius: 50%;\n",
              "    cursor: pointer;\n",
              "    display: none;\n",
              "    fill: var(--fill-color);\n",
              "    height: 32px;\n",
              "    padding: 0;\n",
              "    width: 32px;\n",
              "  }\n",
              "\n",
              "  .colab-df-quickchart:hover {\n",
              "    background-color: var(--hover-bg-color);\n",
              "    box-shadow: 0 1px 2px rgba(60, 64, 67, 0.3), 0 1px 3px 1px rgba(60, 64, 67, 0.15);\n",
              "    fill: var(--button-hover-fill-color);\n",
              "  }\n",
              "\n",
              "  .colab-df-quickchart-complete:disabled,\n",
              "  .colab-df-quickchart-complete:disabled:hover {\n",
              "    background-color: var(--disabled-bg-color);\n",
              "    fill: var(--disabled-fill-color);\n",
              "    box-shadow: none;\n",
              "  }\n",
              "\n",
              "  .colab-df-spinner {\n",
              "    border: 2px solid var(--fill-color);\n",
              "    border-color: transparent;\n",
              "    border-bottom-color: var(--fill-color);\n",
              "    animation:\n",
              "      spin 1s steps(1) infinite;\n",
              "  }\n",
              "\n",
              "  @keyframes spin {\n",
              "    0% {\n",
              "      border-color: transparent;\n",
              "      border-bottom-color: var(--fill-color);\n",
              "      border-left-color: var(--fill-color);\n",
              "    }\n",
              "    20% {\n",
              "      border-color: transparent;\n",
              "      border-left-color: var(--fill-color);\n",
              "      border-top-color: var(--fill-color);\n",
              "    }\n",
              "    30% {\n",
              "      border-color: transparent;\n",
              "      border-left-color: var(--fill-color);\n",
              "      border-top-color: var(--fill-color);\n",
              "      border-right-color: var(--fill-color);\n",
              "    }\n",
              "    40% {\n",
              "      border-color: transparent;\n",
              "      border-right-color: var(--fill-color);\n",
              "      border-top-color: var(--fill-color);\n",
              "    }\n",
              "    60% {\n",
              "      border-color: transparent;\n",
              "      border-right-color: var(--fill-color);\n",
              "    }\n",
              "    80% {\n",
              "      border-color: transparent;\n",
              "      border-right-color: var(--fill-color);\n",
              "      border-bottom-color: var(--fill-color);\n",
              "    }\n",
              "    90% {\n",
              "      border-color: transparent;\n",
              "      border-bottom-color: var(--fill-color);\n",
              "    }\n",
              "  }\n",
              "</style>\n",
              "\n",
              "      <script>\n",
              "        async function quickchart(key) {\n",
              "          const quickchartButtonEl =\n",
              "            document.querySelector('#' + key + ' button');\n",
              "          quickchartButtonEl.disabled = true;  // To prevent multiple clicks.\n",
              "          quickchartButtonEl.classList.add('colab-df-spinner');\n",
              "          try {\n",
              "            const charts = await google.colab.kernel.invokeFunction(\n",
              "                'suggestCharts', [key], {});\n",
              "          } catch (error) {\n",
              "            console.error('Error during call to suggestCharts:', error);\n",
              "          }\n",
              "          quickchartButtonEl.classList.remove('colab-df-spinner');\n",
              "          quickchartButtonEl.classList.add('colab-df-quickchart-complete');\n",
              "        }\n",
              "        (() => {\n",
              "          let quickchartButtonEl =\n",
              "            document.querySelector('#df-a4d9035e-79bb-4649-b412-322b8e928b4a button');\n",
              "          quickchartButtonEl.style.display =\n",
              "            google.colab.kernel.accessAllowed ? 'block' : 'none';\n",
              "        })();\n",
              "      </script>\n",
              "    </div>\n",
              "\n",
              "  <div id=\"id_9003e5d2-1006-4afd-8316-54313e0aa244\">\n",
              "    <style>\n",
              "      .colab-df-generate {\n",
              "        background-color: #E8F0FE;\n",
              "        border: none;\n",
              "        border-radius: 50%;\n",
              "        cursor: pointer;\n",
              "        display: none;\n",
              "        fill: #1967D2;\n",
              "        height: 32px;\n",
              "        padding: 0 0 0 0;\n",
              "        width: 32px;\n",
              "      }\n",
              "\n",
              "      .colab-df-generate:hover {\n",
              "        background-color: #E2EBFA;\n",
              "        box-shadow: 0px 1px 2px rgba(60, 64, 67, 0.3), 0px 1px 3px 1px rgba(60, 64, 67, 0.15);\n",
              "        fill: #174EA6;\n",
              "      }\n",
              "\n",
              "      [theme=dark] .colab-df-generate {\n",
              "        background-color: #3B4455;\n",
              "        fill: #D2E3FC;\n",
              "      }\n",
              "\n",
              "      [theme=dark] .colab-df-generate:hover {\n",
              "        background-color: #434B5C;\n",
              "        box-shadow: 0px 1px 3px 1px rgba(0, 0, 0, 0.15);\n",
              "        filter: drop-shadow(0px 1px 2px rgba(0, 0, 0, 0.3));\n",
              "        fill: #FFFFFF;\n",
              "      }\n",
              "    </style>\n",
              "    <button class=\"colab-df-generate\" onclick=\"generateWithVariable('cross_tab')\"\n",
              "            title=\"Generate code using this dataframe.\"\n",
              "            style=\"display:none;\">\n",
              "\n",
              "  <svg xmlns=\"http://www.w3.org/2000/svg\" height=\"24px\"viewBox=\"0 0 24 24\"\n",
              "       width=\"24px\">\n",
              "    <path d=\"M7,19H8.4L18.45,9,17,7.55,7,17.6ZM5,21V16.75L18.45,3.32a2,2,0,0,1,2.83,0l1.4,1.43a1.91,1.91,0,0,1,.58,1.4,1.91,1.91,0,0,1-.58,1.4L9.25,21ZM18.45,9,17,7.55Zm-12,3A5.31,5.31,0,0,0,4.9,8.1,5.31,5.31,0,0,0,1,6.5,5.31,5.31,0,0,0,4.9,4.9,5.31,5.31,0,0,0,6.5,1,5.31,5.31,0,0,0,8.1,4.9,5.31,5.31,0,0,0,12,6.5,5.46,5.46,0,0,0,6.5,12Z\"/>\n",
              "  </svg>\n",
              "    </button>\n",
              "    <script>\n",
              "      (() => {\n",
              "      const buttonEl =\n",
              "        document.querySelector('#id_9003e5d2-1006-4afd-8316-54313e0aa244 button.colab-df-generate');\n",
              "      buttonEl.style.display =\n",
              "        google.colab.kernel.accessAllowed ? 'block' : 'none';\n",
              "\n",
              "      buttonEl.onclick = () => {\n",
              "        google.colab.notebook.generateWithVariable('cross_tab');\n",
              "      }\n",
              "      })();\n",
              "    </script>\n",
              "  </div>\n",
              "\n",
              "    </div>\n",
              "  </div>\n"
            ],
            "application/vnd.google.colaboratory.intrinsic+json": {
              "type": "dataframe",
              "variable_name": "cross_tab",
              "summary": "{\n  \"name\": \"cross_tab\",\n  \"rows\": 10,\n  \"fields\": [\n    {\n      \"column\": \"decile_score\",\n      \"properties\": {\n        \"dtype\": \"number\",\n        \"std\": 3,\n        \"min\": 1,\n        \"max\": 10,\n        \"num_unique_values\": 10,\n        \"samples\": [\n          9,\n          2,\n          6\n        ],\n        \"semantic_type\": \"\",\n        \"description\": \"\"\n      }\n    },\n    {\n      \"column\": \"African-American\",\n      \"properties\": {\n        \"dtype\": \"number\",\n        \"std\": 37,\n        \"min\": 227,\n        \"max\": 365,\n        \"num_unique_values\": 10,\n        \"samples\": [\n          317,\n          346,\n          318\n        ],\n        \"semantic_type\": \"\",\n        \"description\": \"\"\n      }\n    },\n    {\n      \"column\": \"Asian\",\n      \"properties\": {\n        \"dtype\": \"number\",\n        \"std\": 4,\n        \"min\": 0,\n        \"max\": 15,\n        \"num_unique_values\": 6,\n        \"samples\": [\n          15,\n          4,\n          2\n        ],\n        \"semantic_type\": \"\",\n        \"description\": \"\"\n      }\n    },\n    {\n      \"column\": \"Caucasian\",\n      \"properties\": {\n        \"dtype\": \"number\",\n        \"std\": 162,\n        \"min\": 50,\n        \"max\": 605,\n        \"num_unique_values\": 10,\n        \"samples\": [\n          77,\n          321,\n          160\n        ],\n        \"semantic_type\": \"\",\n        \"description\": \"\"\n      }\n    },\n    {\n      \"column\": \"Hispanic\",\n      \"properties\": {\n        \"dtype\": \"number\",\n        \"std\": 45,\n        \"min\": 14,\n        \"max\": 159,\n        \"num_unique_values\": 10,\n        \"samples\": [\n          17,\n          89,\n          27\n        ],\n        \"semantic_type\": \"\",\n        \"description\": \"\"\n      }\n    },\n    {\n      \"column\": \"Native American\",\n      \"properties\": {\n        \"dtype\": \"number\",\n        \"std\": 0,\n        \"min\": 0,\n        \"max\": 2,\n        \"num_unique_values\": 3,\n        \"samples\": [\n          0,\n          2,\n          1\n        ],\n        \"semantic_type\": \"\",\n        \"description\": \"\"\n      }\n    },\n    {\n      \"column\": \"Other\",\n      \"properties\": {\n        \"dtype\": \"number\",\n        \"std\": 41,\n        \"min\": 7,\n        \"max\": 142,\n        \"num_unique_values\": 9,\n        \"samples\": [\n          7,\n          60,\n          20\n        ],\n        \"semantic_type\": \"\",\n        \"description\": \"\"\n      }\n    }\n  ]\n}"
            }
          },
          "metadata": {},
          "execution_count": 7
        }
      ]
    },
    {
      "cell_type": "code",
      "source": [
        "!pip install --upgrade statsmodels"
      ],
      "metadata": {
        "colab": {
          "base_uri": "https://localhost:8080/"
        },
        "id": "ne_i_43I-BJl",
        "outputId": "9be8301a-e27b-4d08-a186-4fbf6f647e47"
      },
      "execution_count": 8,
      "outputs": [
        {
          "output_type": "stream",
          "name": "stdout",
          "text": [
            "Requirement already satisfied: statsmodels in /usr/local/lib/python3.11/dist-packages (0.14.4)\n",
            "Requirement already satisfied: numpy<3,>=1.22.3 in /usr/local/lib/python3.11/dist-packages (from statsmodels) (2.0.2)\n",
            "Requirement already satisfied: scipy!=1.9.2,>=1.8 in /usr/local/lib/python3.11/dist-packages (from statsmodels) (1.15.3)\n",
            "Requirement already satisfied: pandas!=2.1.0,>=1.4 in /usr/local/lib/python3.11/dist-packages (from statsmodels) (2.2.2)\n",
            "Requirement already satisfied: patsy>=0.5.6 in /usr/local/lib/python3.11/dist-packages (from statsmodels) (1.0.1)\n",
            "Requirement already satisfied: packaging>=21.3 in /usr/local/lib/python3.11/dist-packages (from statsmodels) (24.2)\n",
            "Requirement already satisfied: python-dateutil>=2.8.2 in /usr/local/lib/python3.11/dist-packages (from pandas!=2.1.0,>=1.4->statsmodels) (2.9.0.post0)\n",
            "Requirement already satisfied: pytz>=2020.1 in /usr/local/lib/python3.11/dist-packages (from pandas!=2.1.0,>=1.4->statsmodels) (2025.2)\n",
            "Requirement already satisfied: tzdata>=2022.7 in /usr/local/lib/python3.11/dist-packages (from pandas!=2.1.0,>=1.4->statsmodels) (2025.2)\n",
            "Requirement already satisfied: six>=1.5 in /usr/local/lib/python3.11/dist-packages (from python-dateutil>=2.8.2->pandas!=2.1.0,>=1.4->statsmodels) (1.17.0)\n"
          ]
        }
      ]
    },
    {
      "cell_type": "markdown",
      "source": [
        "# Racial Bias in Compas\n",
        "After filtering out bad rows, our first question is whether there is a significant difference in Compas scores between races. To do so we need to change some variables into factors, and run a logistic regression, comparing low scores to high scores."
      ],
      "metadata": {
        "id": "QoSnTlDm5z-_"
      }
    },
    {
      "cell_type": "code",
      "source": [
        "import statsmodels.formula.api as smf\n",
        "import statsmodels.api as sm\n",
        "# Assuming 'df' is your pandas DataFrame as defined in the previous code\n",
        "\n",
        "# Convert relevant columns to categorical factors\n",
        "df['crime_factor'] = pd.Categorical(df['c_charge_degree'])\n",
        "df['age_factor'] = pd.Categorical(df['age_cat'])\n",
        "df['age_factor'] = df['age_factor'].cat.reorder_categories(df['age_factor'].cat.categories, ordered=True)  # Ensure correct order\n",
        "df['age_factor'] = df['age_factor'].cat.set_categories(df['age_factor'].cat.categories, ordered=True)\n",
        "df['race_factor'] = pd.Categorical(df['race'])\n",
        "df['race_factor'] = df['race_factor'].cat.reorder_categories(df['race_factor'].cat.categories, ordered=True)\n",
        "df['gender_factor'] = pd.Categorical(df['sex']).rename_categories({'Male': \"Male\", 'Female': 'Female'})\n",
        "df['gender_factor'] = df['gender_factor'].cat.reorder_categories(df['gender_factor'].cat.categories, ordered=True)\n",
        "df['score_factor'] = pd.Categorical(df['score_text'] != \"Low\").rename_categories({True: \"HighScore\", False: \"LowScore\"})\n",
        "\n",
        "# Fit the logistic regression model using statsmodels\n",
        "model = smf.glm(formula='score_factor ~ gender_factor + age_factor + race_factor + priors_count + crime_factor + two_year_recid',\n",
        "                data=df, family=sm.families.Binomial()).fit() # Change smf.families to sm.families\n",
        "\n",
        "# Print the model summary\n",
        "print(model.summary())"
      ],
      "metadata": {
        "colab": {
          "base_uri": "https://localhost:8080/"
        },
        "id": "TvpZcgoz94jn",
        "outputId": "91fd16cb-a179-46a8-ebcd-ad9c750c9fec"
      },
      "execution_count": 9,
      "outputs": [
        {
          "output_type": "stream",
          "name": "stdout",
          "text": [
            "                                   Generalized Linear Model Regression Results                                   \n",
            "=================================================================================================================\n",
            "Dep. Variable:     ['score_factor[LowScore]', 'score_factor[HighScore]']   No. Observations:                 6172\n",
            "Model:                                                               GLM   Df Residuals:                     6160\n",
            "Model Family:                                                   Binomial   Df Model:                           11\n",
            "Link Function:                                                     Logit   Scale:                          1.0000\n",
            "Method:                                                             IRLS   Log-Likelihood:                -3084.2\n",
            "Date:                                                   Sun, 18 May 2025   Deviance:                       6168.4\n",
            "Time:                                                           19:52:02   Pearson chi2:                 6.07e+03\n",
            "No. Iterations:                                                        6   Pseudo R-squ. (CS):             0.3128\n",
            "Covariance Type:                                               nonrobust                                         \n",
            "==================================================================================================\n",
            "                                     coef    std err          z      P>|z|      [0.025      0.975]\n",
            "--------------------------------------------------------------------------------------------------\n",
            "Intercept                          0.8271      0.091      9.132      0.000       0.650       1.005\n",
            "gender_factor[T.Male]              0.2213      0.080      2.783      0.005       0.065       0.377\n",
            "age_factor[T.Greater than 45]      1.3556      0.099     13.682      0.000       1.161       1.550\n",
            "age_factor[T.Less than 25]        -1.3084      0.076    -17.232      0.000      -1.457      -1.160\n",
            "race_factor[T.Asian]               0.7316      0.477      1.534      0.125      -0.203       1.667\n",
            "race_factor[T.Caucasian]           0.4772      0.069      6.881      0.000       0.341       0.613\n",
            "race_factor[T.Hispanic]            0.9056      0.123      7.344      0.000       0.664       1.147\n",
            "race_factor[T.Native American]    -0.9170      0.765     -1.198      0.231      -2.417       0.583\n",
            "race_factor[T.Other]               1.3036      0.158      8.237      0.000       0.993       1.614\n",
            "crime_factor[T.M]                  0.3112      0.067      4.677      0.000       0.181       0.442\n",
            "priors_count                      -0.2689      0.011    -24.221      0.000      -0.291      -0.247\n",
            "two_year_recid                    -0.6859      0.064    -10.713      0.000      -0.811      -0.560\n",
            "==================================================================================================\n"
          ]
        }
      ]
    },
    {
      "cell_type": "markdown",
      "source": [
        "Black defendants are 45% more likely than white defendants to receive a higher score correcting for the seriousness of their crime, previous arrests, and future criminal behavior."
      ],
      "metadata": {
        "id": "Kl6vSa-459wS"
      }
    },
    {
      "cell_type": "code",
      "source": [
        "import math\n",
        "\n",
        "control = math.exp(-1.52554) / (1 + math.exp(-1.52554))\n",
        "result = math.exp(0.47721) / (1 - control + (control * math.exp(0.47721)))\n",
        "result\n"
      ],
      "metadata": {
        "colab": {
          "base_uri": "https://localhost:8080/"
        },
        "id": "U13dIFkj_kJN",
        "outputId": "3f0ec097-a765-4138-9252-ea4cf3845876"
      },
      "execution_count": 10,
      "outputs": [
        {
          "output_type": "execute_result",
          "data": {
            "text/plain": [
              "1.4528408658138932"
            ]
          },
          "metadata": {},
          "execution_count": 10
        }
      ]
    },
    {
      "cell_type": "markdown",
      "source": [
        "Women are 19.4% more likely than men to get a higher score."
      ],
      "metadata": {
        "id": "VTg4kVyL5-8t"
      }
    },
    {
      "cell_type": "code",
      "source": [
        "control = math.exp(-1.52554) / (1 + math.exp(-1.52554))\n",
        "result = math.exp(0.22127) / (1 - control + (control * math.exp(0.22127)))\n",
        "result"
      ],
      "metadata": {
        "colab": {
          "base_uri": "https://localhost:8080/"
        },
        "id": "lSFt2ujj_w3v",
        "outputId": "b01afd0a-81e2-49c2-ec61-81ebd6800325"
      },
      "execution_count": 11,
      "outputs": [
        {
          "output_type": "execute_result",
          "data": {
            "text/plain": [
              "1.1947978508506671"
            ]
          },
          "metadata": {},
          "execution_count": 11
        }
      ]
    },
    {
      "cell_type": "markdown",
      "source": [
        "People under 25 are 2.5 times as likely to get a higher score as middle aged defendants."
      ],
      "metadata": {
        "id": "ZRK-cbCj6Irr"
      }
    },
    {
      "cell_type": "code",
      "source": [
        "control = math.exp(-1.52554) / (1 + math.exp(-1.52554))\n",
        "result = math.exp(1.30839) / (1 - control + (control * math.exp(1.30839)))\n",
        "result\n"
      ],
      "metadata": {
        "colab": {
          "base_uri": "https://localhost:8080/"
        },
        "id": "k6xdWo1wANGk",
        "outputId": "75d991a9-000e-428f-829c-b8c017380161"
      },
      "execution_count": 12,
      "outputs": [
        {
          "output_type": "execute_result",
          "data": {
            "text/plain": [
              "2.4961202077189455"
            ]
          },
          "metadata": {},
          "execution_count": 12
        }
      ]
    },
    {
      "cell_type": "markdown",
      "source": [
        "# Risk of Violent Recidivism\n",
        "Compas also offers a score that aims to measure a persons risk of violent recidivism, which has a similar overall accuracy to the Recidivism score. As before, we can use a logistic regression to test for racial bias."
      ],
      "metadata": {
        "id": "JEiw7b6A6Oau"
      }
    },
    {
      "cell_type": "code",
      "source": [
        "violent = pd.read_csv(\"./compas-scores-two-years-violent.csv\")\n",
        "violent = violent.loc[\n",
        "    (violent.days_b_screening_arrest <= 30) &\n",
        "    (violent.days_b_screening_arrest >= -30) &\n",
        "    (violent.is_recid != -1) &\n",
        "    (violent.c_charge_degree != 'O') &\n",
        "    (violent.score_text != 'N/A')\n",
        "].copy()\n",
        "\n",
        "print(len(violent))\n",
        "print(violent.two_year_recid.sum())"
      ],
      "metadata": {
        "colab": {
          "base_uri": "https://localhost:8080/"
        },
        "id": "aQ5KEN7O7JPU",
        "outputId": "94eba125-ff7b-4488-abb3-794adda39312"
      },
      "execution_count": 13,
      "outputs": [
        {
          "output_type": "stream",
          "name": "stdout",
          "text": [
            "4020\n",
            "652\n"
          ]
        }
      ]
    },
    {
      "cell_type": "code",
      "source": [
        "violent[\"age_cat\"].value_counts()"
      ],
      "metadata": {
        "colab": {
          "base_uri": "https://localhost:8080/",
          "height": 210
        },
        "id": "2bfbzMJPBEag",
        "outputId": "3a4c8a56-055f-48ff-ef6a-f082126a4d5c"
      },
      "execution_count": 14,
      "outputs": [
        {
          "output_type": "execute_result",
          "data": {
            "text/plain": [
              "age_cat\n",
              "25 - 45            2300\n",
              "Greater than 45     954\n",
              "Less than 25        766\n",
              "Name: count, dtype: int64"
            ],
            "text/html": [
              "<div>\n",
              "<style scoped>\n",
              "    .dataframe tbody tr th:only-of-type {\n",
              "        vertical-align: middle;\n",
              "    }\n",
              "\n",
              "    .dataframe tbody tr th {\n",
              "        vertical-align: top;\n",
              "    }\n",
              "\n",
              "    .dataframe thead th {\n",
              "        text-align: right;\n",
              "    }\n",
              "</style>\n",
              "<table border=\"1\" class=\"dataframe\">\n",
              "  <thead>\n",
              "    <tr style=\"text-align: right;\">\n",
              "      <th></th>\n",
              "      <th>count</th>\n",
              "    </tr>\n",
              "    <tr>\n",
              "      <th>age_cat</th>\n",
              "      <th></th>\n",
              "    </tr>\n",
              "  </thead>\n",
              "  <tbody>\n",
              "    <tr>\n",
              "      <th>25 - 45</th>\n",
              "      <td>2300</td>\n",
              "    </tr>\n",
              "    <tr>\n",
              "      <th>Greater than 45</th>\n",
              "      <td>954</td>\n",
              "    </tr>\n",
              "    <tr>\n",
              "      <th>Less than 25</th>\n",
              "      <td>766</td>\n",
              "    </tr>\n",
              "  </tbody>\n",
              "</table>\n",
              "</div><br><label><b>dtype:</b> int64</label>"
            ]
          },
          "metadata": {},
          "execution_count": 14
        }
      ]
    },
    {
      "cell_type": "code",
      "source": [
        "violent[\"race\"].value_counts()"
      ],
      "metadata": {
        "colab": {
          "base_uri": "https://localhost:8080/",
          "height": 304
        },
        "id": "Rjq3YZI3BK_Q",
        "outputId": "e5682532-7334-4d35-e529-d0061c7815e5"
      },
      "execution_count": 15,
      "outputs": [
        {
          "output_type": "execute_result",
          "data": {
            "text/plain": [
              "race\n",
              "African-American    1918\n",
              "Caucasian           1459\n",
              "Hispanic             355\n",
              "Other                255\n",
              "Asian                 26\n",
              "Native American        7\n",
              "Name: count, dtype: int64"
            ],
            "text/html": [
              "<div>\n",
              "<style scoped>\n",
              "    .dataframe tbody tr th:only-of-type {\n",
              "        vertical-align: middle;\n",
              "    }\n",
              "\n",
              "    .dataframe tbody tr th {\n",
              "        vertical-align: top;\n",
              "    }\n",
              "\n",
              "    .dataframe thead th {\n",
              "        text-align: right;\n",
              "    }\n",
              "</style>\n",
              "<table border=\"1\" class=\"dataframe\">\n",
              "  <thead>\n",
              "    <tr style=\"text-align: right;\">\n",
              "      <th></th>\n",
              "      <th>count</th>\n",
              "    </tr>\n",
              "    <tr>\n",
              "      <th>race</th>\n",
              "      <th></th>\n",
              "    </tr>\n",
              "  </thead>\n",
              "  <tbody>\n",
              "    <tr>\n",
              "      <th>African-American</th>\n",
              "      <td>1918</td>\n",
              "    </tr>\n",
              "    <tr>\n",
              "      <th>Caucasian</th>\n",
              "      <td>1459</td>\n",
              "    </tr>\n",
              "    <tr>\n",
              "      <th>Hispanic</th>\n",
              "      <td>355</td>\n",
              "    </tr>\n",
              "    <tr>\n",
              "      <th>Other</th>\n",
              "      <td>255</td>\n",
              "    </tr>\n",
              "    <tr>\n",
              "      <th>Asian</th>\n",
              "      <td>26</td>\n",
              "    </tr>\n",
              "    <tr>\n",
              "      <th>Native American</th>\n",
              "      <td>7</td>\n",
              "    </tr>\n",
              "  </tbody>\n",
              "</table>\n",
              "</div><br><label><b>dtype:</b> int64</label>"
            ]
          },
          "metadata": {},
          "execution_count": 15
        }
      ]
    },
    {
      "cell_type": "code",
      "source": [
        "violent[\"v_score_text\"].value_counts()"
      ],
      "metadata": {
        "colab": {
          "base_uri": "https://localhost:8080/",
          "height": 210
        },
        "id": "B8fGUWzABUMO",
        "outputId": "1550fdf6-021f-4894-9b23-641df30dc94a"
      },
      "execution_count": 16,
      "outputs": [
        {
          "output_type": "execute_result",
          "data": {
            "text/plain": [
              "v_score_text\n",
              "Low       2913\n",
              "Medium     828\n",
              "High       279\n",
              "Name: count, dtype: int64"
            ],
            "text/html": [
              "<div>\n",
              "<style scoped>\n",
              "    .dataframe tbody tr th:only-of-type {\n",
              "        vertical-align: middle;\n",
              "    }\n",
              "\n",
              "    .dataframe tbody tr th {\n",
              "        vertical-align: top;\n",
              "    }\n",
              "\n",
              "    .dataframe thead th {\n",
              "        text-align: right;\n",
              "    }\n",
              "</style>\n",
              "<table border=\"1\" class=\"dataframe\">\n",
              "  <thead>\n",
              "    <tr style=\"text-align: right;\">\n",
              "      <th></th>\n",
              "      <th>count</th>\n",
              "    </tr>\n",
              "    <tr>\n",
              "      <th>v_score_text</th>\n",
              "      <th></th>\n",
              "    </tr>\n",
              "  </thead>\n",
              "  <tbody>\n",
              "    <tr>\n",
              "      <th>Low</th>\n",
              "      <td>2913</td>\n",
              "    </tr>\n",
              "    <tr>\n",
              "      <th>Medium</th>\n",
              "      <td>828</td>\n",
              "    </tr>\n",
              "    <tr>\n",
              "      <th>High</th>\n",
              "      <td>279</td>\n",
              "    </tr>\n",
              "  </tbody>\n",
              "</table>\n",
              "</div><br><label><b>dtype:</b> int64</label>"
            ]
          },
          "metadata": {},
          "execution_count": 16
        }
      ]
    },
    {
      "cell_type": "code",
      "source": [
        "fig, axes = plt.subplots(1, 2, figsize=(12, 6))\n",
        "\n",
        "for i, race_label in enumerate(['African-American', 'Caucasian']):\n",
        "    subset = violent[violent.race == race_label]\n",
        "    sns.countplot(x='v_decile_score', data=subset, order=sorted(violent.v_decile_score.unique()), ax=axes[i])\n",
        "    axes[i].set_title(f\"Violent Decile Score Distribution: {race_label}\")\n",
        "    axes[i].set_xlabel(\"Violent Decile Score\")\n",
        "    axes[i].set_ylabel(\"Count\")\n",
        "    axes[i].set_ylim(0, 700)\n",
        "\n",
        "plt.tight_layout()\n",
        "plt.show()\n"
      ],
      "metadata": {
        "colab": {
          "base_uri": "https://localhost:8080/",
          "height": 607
        },
        "id": "a-46FmKjDEo7",
        "outputId": "4027e2a6-4f5f-42a7-8ea8-13fd17fa70fc"
      },
      "execution_count": 17,
      "outputs": [
        {
          "output_type": "display_data",
          "data": {
            "text/plain": [
              "<Figure size 1200x600 with 2 Axes>"
            ],
            "image/png": "[encoded data removed]"
          },
          "metadata": {}
        }
      ]
    },
    {
      "cell_type": "code",
      "source": [
        "df['crime_factor'] = pd.Categorical(df['c_charge_degree'])\n",
        "df['age_factor'] = pd.Categorical(df['age_cat'])\n",
        "# Reorder categories to ensure correct order and set them as ordered\n",
        "df['age_factor'] = df['age_factor'].cat.reorder_categories(df['age_factor'].cat.categories, ordered=True)\n",
        "df['age_factor'] = df['age_factor'].cat.set_categories(df['age_factor'].cat.categories, ordered=True)\n",
        "\n",
        "df['race_factor'] = pd.Categorical(df['race'])\n",
        "race_labels = [\"African-American\", \"Asian\", \"Caucasian\", \"Hispanic\", \"Native American\", \"Other\"]\n",
        "df['race_factor'] = df['race_factor'].cat.rename_categories(race_labels)\n",
        "# Set reference level\n",
        "df['race_factor'] = df['race_factor'].cat.reorder_categories(['Caucasian'] + [r for r in race_labels if r != 'Caucasian'], ordered=True)\n",
        "\n",
        "\n",
        "df['gender_factor'] = pd.Categorical(df['sex']).rename_categories({'Male': \"Male\", 'Female': 'Female'})\n",
        "df['gender_factor'] = df['gender_factor'].cat.reorder_categories(['Male', 'Female'], ordered=True)\n",
        "\n",
        "df['score_factor'] = pd.Categorical(df['score_text'] != \"Low\").rename_categories({True: \"HighScore\", False: \"LowScore\"})\n",
        "# Fit the logistic regression model using statsmodels\n",
        "model = smf.glm(formula='score_factor ~ gender_factor + age_factor + race_factor + priors_count + crime_factor + two_year_recid',\n",
        "                data=df, family=sm.families.Binomial()).fit()\n",
        "\n",
        "# Print the model summary\n",
        "print(model.summary())\n"
      ],
      "metadata": {
        "colab": {
          "base_uri": "https://localhost:8080/"
        },
        "id": "pEup7v2MGFUY",
        "outputId": "ddee0f8c-3894-4b67-df1d-7198edfce4b3"
      },
      "execution_count": 18,
      "outputs": [
        {
          "output_type": "stream",
          "name": "stdout",
          "text": [
            "                                   Generalized Linear Model Regression Results                                   \n",
            "=================================================================================================================\n",
            "Dep. Variable:     ['score_factor[LowScore]', 'score_factor[HighScore]']   No. Observations:                 6172\n",
            "Model:                                                               GLM   Df Residuals:                     6160\n",
            "Model Family:                                                   Binomial   Df Model:                           11\n",
            "Link Function:                                                     Logit   Scale:                          1.0000\n",
            "Method:                                                             IRLS   Log-Likelihood:                -3084.2\n",
            "Date:                                                   Sun, 18 May 2025   Deviance:                       6168.4\n",
            "Time:                                                           19:52:04   Pearson chi2:                 6.07e+03\n",
            "No. Iterations:                                                        6   Pseudo R-squ. (CS):             0.3128\n",
            "Covariance Type:                                               nonrobust                                         \n",
            "===================================================================================================\n",
            "                                      coef    std err          z      P>|z|      [0.025      0.975]\n",
            "---------------------------------------------------------------------------------------------------\n",
            "Intercept                           1.5255      0.079     19.430      0.000       1.372       1.679\n",
            "gender_factor[T.Female]            -0.2213      0.080     -2.783      0.005      -0.377      -0.065\n",
            "age_factor[T.Greater than 45]       1.3556      0.099     13.682      0.000       1.161       1.550\n",
            "age_factor[T.Less than 25]         -1.3084      0.076    -17.232      0.000      -1.457      -1.160\n",
            "race_factor[T.African-American]    -0.4772      0.069     -6.881      0.000      -0.613      -0.341\n",
            "race_factor[T.Asian]                0.2544      0.478      0.532      0.595      -0.683       1.192\n",
            "race_factor[T.Hispanic]             0.4284      0.128      3.344      0.001       0.177       0.680\n",
            "race_factor[T.Native American]     -1.3942      0.766     -1.820      0.069      -2.896       0.107\n",
            "race_factor[T.Other]                0.8263      0.162      5.098      0.000       0.509       1.144\n",
            "crime_factor[T.M]                   0.3112      0.067      4.677      0.000       0.181       0.442\n",
            "priors_count                       -0.2689      0.011    -24.221      0.000      -0.291      -0.247\n",
            "two_year_recid                     -0.6859      0.064    -10.713      0.000      -0.811      -0.560\n",
            "===================================================================================================\n"
          ]
        }
      ]
    },
    {
      "cell_type": "markdown",
      "source": [
        "The violent score overpredicts recidivism for black defendants by 77.3% compared to white defendants."
      ],
      "metadata": {
        "id": "N5zsRjLD6X-m"
      }
    },
    {
      "cell_type": "code",
      "source": [
        "control = math.exp(-2.24274) / (1 + math.exp(-2.24274))\n",
        "result = math.exp(0.65893) / (1 - control + (control * math.exp(0.65893)))\n",
        "result"
      ],
      "metadata": {
        "colab": {
          "base_uri": "https://localhost:8080/"
        },
        "id": "RFcUKjBKGcJJ",
        "outputId": "7f213f2c-3911-49b6-802d-002808d45570"
      },
      "execution_count": 19,
      "outputs": [
        {
          "output_type": "execute_result",
          "data": {
            "text/plain": [
              "1.7739209589164604"
            ]
          },
          "metadata": {},
          "execution_count": 19
        }
      ]
    },
    {
      "cell_type": "markdown",
      "source": [
        "Defendands under 25 are 7.4 times as likely to get a higher score as middle aged defendants."
      ],
      "metadata": {
        "id": "I4QgGVzM6ZJu"
      }
    },
    {
      "cell_type": "code",
      "source": [
        "control = math.exp(-2.24274) / (1 + math.exp(-2.24274))\n",
        "result = math.exp(3.14591) / (1 - control + (control * math.exp(3.14591)))\n",
        "result"
      ],
      "metadata": {
        "colab": {
          "base_uri": "https://localhost:8080/"
        },
        "id": "piKT7jJfGqDA",
        "outputId": "da2b5293-b803-419c-e35e-b2b84507c8cb"
      },
      "execution_count": 20,
      "outputs": [
        {
          "output_type": "execute_result",
          "data": {
            "text/plain": [
              "7.414239863565466"
            ]
          },
          "metadata": {},
          "execution_count": 20
        }
      ]
    },
    {
      "cell_type": "markdown",
      "source": [
        "# Directions of the Racial Bias"
      ],
      "metadata": {
        "id": "Du6qmnL37Zr0"
      }
    },
    {
      "cell_type": "code",
      "source": [
        "import csv\n",
        "from truth_tables import PeekyReader, Person, table, is_race, count, vtable, hightable, vhightable\n",
        "\n",
        "# 1. Read and validate all Person records\n",
        "people = []\n",
        "with open(\"./cox-parsed.csv\", newline='') as f:\n",
        "    reader = PeekyReader(csv.DictReader(f))\n",
        "    try:\n",
        "        while True:\n",
        "            p = Person(reader)\n",
        "            if p.valid:\n",
        "                people.append(p)\n",
        "    except StopIteration:\n",
        "        pass\n",
        "\n",
        "# 2. Build the “population”:\n",
        "#    include everyone with a valid score\n",
        "#    AND (either a recidivist discharged ≤ 730 days OR lifetime > 730 days)\n",
        "population = [\n",
        "    person for person in people\n",
        "    if person.score_valid\n",
        "    and (\n",
        "        (person.recidivist and person.lifetime <= 730)\n",
        "        or person.lifetime > 730\n",
        "    )\n",
        "]\n",
        "\n",
        "# 3. Extract the recidivists subset:\n",
        "#    recidivists whose discharge was within 730 days\n",
        "recidivists = [\n",
        "    person for person in population\n",
        "    if person.recidivist and person.lifetime <= 730\n",
        "]\n",
        "\n",
        "# 4. Everyone else in “population” (i.e., survivors)\n",
        "recid_set = set(recidivists)\n",
        "survivors = [\n",
        "    person for person in population\n",
        "    if person not in recid_set\n",
        "]\n",
        "\n",
        "# 5. (Optional) Inspect your counts\n",
        "print(f\"Total valid people:   {len(people)}\")\n",
        "print(f\"Filtered population:  {len(population)}\")\n",
        "print(f\"Recidivists (≤730d):  {len(recidivists)}\")\n",
        "print(f\"Survivors (>730d):     {len(survivors)}\")"
      ],
      "metadata": {
        "colab": {
          "base_uri": "https://localhost:8080/"
        },
        "id": "9nBjZTlLpayc",
        "outputId": "ec203710-142b-4154-aeb3-6a2cb799013d"
      },
      "execution_count": 22,
      "outputs": [
        {
          "output_type": "stream",
          "name": "stdout",
          "text": [
            "Total valid people:   7225\n",
            "Filtered population:  7214\n",
            "Recidivists (≤730d):  3251\n",
            "Survivors (>730d):     3963\n"
          ]
        }
      ]
    },
    {
      "cell_type": "code",
      "source": [
        "print(\"All defendants\")\n",
        "table(list(recidivists), list(survivors))"
      ],
      "metadata": {
        "id": "jytjL1azsD-e",
        "colab": {
          "base_uri": "https://localhost:8080/"
        },
        "outputId": "c13d5eea-9113-403c-effd-1d0f51d9ab43"
      },
      "execution_count": 23,
      "outputs": [
        {
          "output_type": "stream",
          "name": "stdout",
          "text": [
            "All defendants\n",
            "           \tLow\tHigh\n",
            "Survived   \t2681\t1282\t0.55\n",
            "Recidivated\t1216\t2035\t0.45\n",
            "Total: 7214.00\n",
            "False positive rate: 32.35\n",
            "False negative rate: 37.40\n",
            "Specificity: 0.68\n",
            "Sensitivity: 0.63\n",
            "Prevalence: 0.45\n",
            "PPV: 0.61\n",
            "NPV: 0.69\n",
            "LR+: 1.94\n",
            "LR-: 0.55\n"
          ]
        }
      ]
    },
    {
      "cell_type": "code",
      "source": [
        "import statistics\n",
        "print(\"Average followup time %.2f (sd %.2f)\" % (statistics.mean(map(lambda i: i.lifetime, population)),\n",
        "                                                statistics.stdev(map(lambda i: i.lifetime, population))))\n",
        "print(\"Median followup time %i\" % (statistics.median(map(lambda i: i.lifetime, population))))"
      ],
      "metadata": {
        "id": "uKxUJ0BGsuMf",
        "colab": {
          "base_uri": "https://localhost:8080/"
        },
        "outputId": "cee20f53-f8c0-407c-84ed-5500e177430b"
      },
      "execution_count": 24,
      "outputs": [
        {
          "output_type": "stream",
          "name": "stdout",
          "text": [
            "Average followup time 622.87 (sd 392.19)\n",
            "Median followup time 766\n"
          ]
        }
      ]
    },
    {
      "cell_type": "markdown",
      "source": [
        "Overall, the false positive rate is 32.35%."
      ],
      "metadata": {
        "id": "O-auUhFf7hEg"
      }
    },
    {
      "cell_type": "code",
      "source": [
        "print(\"Black defendants\")\n",
        "is_afam = is_race(\"African-American\")\n",
        "table(list(filter(is_afam, recidivists)), list(filter(is_afam, survivors)))"
      ],
      "metadata": {
        "id": "KYC07hz3tAG2",
        "colab": {
          "base_uri": "https://localhost:8080/"
        },
        "outputId": "5813871a-00b5-4672-b2b0-b6262969dc49"
      },
      "execution_count": 25,
      "outputs": [
        {
          "output_type": "stream",
          "name": "stdout",
          "text": [
            "Black defendants\n",
            "           \tLow\tHigh\n",
            "Survived   \t990\t805\t0.49\n",
            "Recidivated\t532\t1369\t0.51\n",
            "Total: 3696.00\n",
            "False positive rate: 44.85\n",
            "False negative rate: 27.99\n",
            "Specificity: 0.55\n",
            "Sensitivity: 0.72\n",
            "Prevalence: 0.51\n",
            "PPV: 0.63\n",
            "NPV: 0.65\n",
            "LR+: 1.61\n",
            "LR-: 0.51\n"
          ]
        }
      ]
    },
    {
      "cell_type": "markdown",
      "source": [
        "That number is higher for African Americans at 44.85%."
      ],
      "metadata": {
        "id": "KEN4Dm6i7ksa"
      }
    },
    {
      "cell_type": "code",
      "source": [
        "print(\"White defendants\")\n",
        "is_white = is_race(\"Caucasian\")\n",
        "table(list(filter(is_white, recidivists)), list(filter(is_white, survivors)))"
      ],
      "metadata": {
        "id": "UkiPaOKutLBs",
        "colab": {
          "base_uri": "https://localhost:8080/"
        },
        "outputId": "36794453-a1c0-4af1-e313-e042d96a4324"
      },
      "execution_count": 26,
      "outputs": [
        {
          "output_type": "stream",
          "name": "stdout",
          "text": [
            "White defendants\n",
            "           \tLow\tHigh\n",
            "Survived   \t1139\t349\t0.61\n",
            "Recidivated\t461\t505\t0.39\n",
            "Total: 2454.00\n",
            "False positive rate: 23.45\n",
            "False negative rate: 47.72\n",
            "Specificity: 0.77\n",
            "Sensitivity: 0.52\n",
            "Prevalence: 0.39\n",
            "PPV: 0.59\n",
            "NPV: 0.71\n",
            "LR+: 2.23\n",
            "LR-: 0.62\n"
          ]
        }
      ]
    },
    {
      "cell_type": "markdown",
      "source": [
        "And lower for whites at 23.45%."
      ],
      "metadata": {
        "id": "ad6r2CxU7ofO"
      }
    },
    {
      "cell_type": "markdown",
      "source": [
        "Which means under COMPAS black defendants are 91% more likely to get a higher score and not go on to commit more crimes than white defendants after two year."
      ],
      "metadata": {
        "id": "y2TZiMtU7tu8"
      }
    },
    {
      "cell_type": "code",
      "source": [
        "44.85 / 23.45"
      ],
      "metadata": {
        "id": "pY2qz8DptTJs",
        "colab": {
          "base_uri": "https://localhost:8080/"
        },
        "outputId": "5b19e873-170b-4242-c6c2-a03623b36f33"
      },
      "execution_count": 27,
      "outputs": [
        {
          "output_type": "execute_result",
          "data": {
            "text/plain": [
              "1.9125799573560769"
            ]
          },
          "metadata": {},
          "execution_count": 27
        }
      ]
    },
    {
      "cell_type": "markdown",
      "source": [
        "COMPAS scores misclassify white reoffenders as low risk at 70.4% more often than black reoffenders."
      ],
      "metadata": {
        "id": "Y5PYEiVn7x9r"
      }
    },
    {
      "cell_type": "code",
      "source": [
        "47.72 / 27.99"
      ],
      "metadata": {
        "id": "wH2E_U1LtWui",
        "colab": {
          "base_uri": "https://localhost:8080/"
        },
        "outputId": "d0501724-06fd-42c4-ee5b-f80a0268a075"
      },
      "execution_count": 28,
      "outputs": [
        {
          "output_type": "execute_result",
          "data": {
            "text/plain": [
              "1.7048946052161487"
            ]
          },
          "metadata": {},
          "execution_count": 28
        }
      ]
    },
    {
      "cell_type": "code",
      "source": [
        "hightable(list(filter(is_white, recidivists)), list(filter(is_white, survivors)))"
      ],
      "metadata": {
        "id": "Zy_3tg8Fta3Y",
        "colab": {
          "base_uri": "https://localhost:8080/"
        },
        "outputId": "f03ad03f-3955-4c3a-e0e3-d11184507963"
      },
      "execution_count": 29,
      "outputs": [
        {
          "output_type": "stream",
          "name": "stdout",
          "text": [
            "           \tLow\tHigh\n",
            "Survived   \t1407\t81\t0.61\n",
            "Recidivated\t771\t195\t0.39\n",
            "Total: 2454.00\n",
            "False positive rate: 5.44\n",
            "False negative rate: 79.81\n",
            "Specificity: 0.95\n",
            "Sensitivity: 0.20\n",
            "Prevalence: 0.39\n",
            "PPV: 0.71\n",
            "NPV: 0.65\n",
            "LR+: 3.71\n",
            "LR-: 0.84\n"
          ]
        }
      ]
    },
    {
      "cell_type": "code",
      "source": [
        "hightable(list(filter(is_afam, recidivists)), list(filter(is_afam, survivors)))"
      ],
      "metadata": {
        "id": "pVBkjY2Jthch",
        "colab": {
          "base_uri": "https://localhost:8080/"
        },
        "outputId": "f6c314ed-3de4-445f-e7cb-d9fff1c30e7b"
      },
      "execution_count": 30,
      "outputs": [
        {
          "output_type": "stream",
          "name": "stdout",
          "text": [
            "           \tLow\tHigh\n",
            "Survived   \t1511\t284\t0.49\n",
            "Recidivated\t1160\t741\t0.51\n",
            "Total: 3696.00\n",
            "False positive rate: 15.82\n",
            "False negative rate: 61.02\n",
            "Specificity: 0.84\n",
            "Sensitivity: 0.39\n",
            "Prevalence: 0.51\n",
            "PPV: 0.72\n",
            "NPV: 0.57\n",
            "LR+: 2.46\n",
            "LR-: 0.72\n"
          ]
        }
      ]
    },
    {
      "cell_type": "markdown",
      "source": [
        "# Risk of Violent Recidivism"
      ],
      "metadata": {
        "id": "MAbOKNIr74JN"
      }
    },
    {
      "cell_type": "code",
      "source": [
        "import csv\n",
        "from truth_tables import PeekyReader, Person\n",
        "\n",
        "# 1. Read and validate all Person records from the violent CSV\n",
        "vpeople = []\n",
        "with open(\"./cox-violent-parsed.csv\", newline=\"\") as f:\n",
        "    reader = PeekyReader(csv.DictReader(f))\n",
        "    try:\n",
        "        while True:\n",
        "            p = Person(reader)\n",
        "            if p.valid:\n",
        "                vpeople.append(p)\n",
        "    except StopIteration:\n",
        "        pass\n",
        "\n",
        "# 2. Build the “violent population”:\n",
        "#    include everyone with a valid violent score\n",
        "#    AND (either a violent recidivist discharged ≤ 730 days OR lifetime > 730 days)\n",
        "vpop = [\n",
        "    person for person in vpeople\n",
        "    if person.vscore_valid\n",
        "    and (\n",
        "        (person.violent_recidivist and person.lifetime <= 730)\n",
        "        or person.lifetime > 730\n",
        "    )\n",
        "]\n",
        "\n",
        "# 3. Extract the violent recidivists subset:\n",
        "#    those violent recidivists whose discharge was within 730 days\n",
        "vrecid = [\n",
        "    person for person in vpop\n",
        "    if person.violent_recidivist and person.lifetime <= 730\n",
        "]\n",
        "\n",
        "# 4. Everyone else in “violent population” (i.e., violent survivors)\n",
        "vrecid_set = set(vrecid)\n",
        "vsurv = [\n",
        "    person for person in vpop\n",
        "    if person not in vrecid_set\n",
        "]\n",
        "\n",
        "# 5. (Optional) Inspect your counts\n",
        "print(f\"Total valid violent people:      {len(vpeople)}\")\n",
        "print(f\"Filtered violent population:     {len(vpop)}\")\n",
        "print(f\"Violent recidivists (≤730d):      {len(vrecid)}\")\n",
        "print(f\"Violent survivors (>730d):        {len(vsurv)}\")\n"
      ],
      "metadata": {
        "colab": {
          "base_uri": "https://localhost:8080/"
        },
        "id": "HEpTJG9etveX",
        "outputId": "06ae49bd-6bba-40b0-c0c2-043969e9b246"
      },
      "execution_count": 31,
      "outputs": [
        {
          "output_type": "stream",
          "name": "stdout",
          "text": [
            "Total valid violent people:      7201\n",
            "Filtered violent population:     3435\n",
            "Violent recidivists (≤730d):      807\n",
            "Violent survivors (>730d):        2628\n"
          ]
        }
      ]
    },
    {
      "cell_type": "code",
      "source": [
        "print(\"All defendants\")\n",
        "vtable(list(vrecid), list(vsurv))"
      ],
      "metadata": {
        "colab": {
          "base_uri": "https://localhost:8080/"
        },
        "id": "VjGFMViYwuKo",
        "outputId": "ae8e772b-85f3-4dfd-fcac-767651622197"
      },
      "execution_count": 32,
      "outputs": [
        {
          "output_type": "stream",
          "name": "stdout",
          "text": [
            "All defendants\n",
            "           \tLow\tHigh\n",
            "Survived   \t2040\t588\t0.77\n",
            "Recidivated\t313\t494\t0.23\n",
            "Total: 3435.00\n",
            "False positive rate: 22.37\n",
            "False negative rate: 38.79\n",
            "Specificity: 0.78\n",
            "Sensitivity: 0.61\n",
            "Prevalence: 0.23\n",
            "PPV: 0.46\n",
            "NPV: 0.87\n",
            "LR+: 2.74\n",
            "LR-: 0.50\n"
          ]
        }
      ]
    },
    {
      "cell_type": "code",
      "source": [
        "print(\"Black defendants\")\n",
        "is_afam = is_race(\"African-American\")\n",
        "vtable(list(filter(is_afam, vrecid)), list(filter(is_afam, vsurv)))"
      ],
      "metadata": {
        "colab": {
          "base_uri": "https://localhost:8080/"
        },
        "id": "USIaTARaxcIw",
        "outputId": "522e3763-4880-474f-b61c-74afbc5a91d4"
      },
      "execution_count": 33,
      "outputs": [
        {
          "output_type": "stream",
          "name": "stdout",
          "text": [
            "Black defendants\n",
            "           \tLow\tHigh\n",
            "Survived   \t813\t373\t0.70\n",
            "Recidivated\t148\t356\t0.30\n",
            "Total: 1690.00\n",
            "False positive rate: 31.45\n",
            "False negative rate: 29.37\n",
            "Specificity: 0.69\n",
            "Sensitivity: 0.71\n",
            "Prevalence: 0.30\n",
            "PPV: 0.49\n",
            "NPV: 0.85\n",
            "LR+: 2.25\n",
            "LR-: 0.43\n"
          ]
        }
      ]
    },
    {
      "cell_type": "code",
      "source": [
        "print(\"White defendants\")\n",
        "is_white = is_race(\"Caucasian\")\n",
        "vtable(list(filter(is_white, vrecid)), list(filter(is_white, vsurv)))"
      ],
      "metadata": {
        "colab": {
          "base_uri": "https://localhost:8080/"
        },
        "id": "5Zwnwr9pxrvQ",
        "outputId": "eba90df4-e00e-46f0-d8bf-644edf6e4639"
      },
      "execution_count": 34,
      "outputs": [
        {
          "output_type": "stream",
          "name": "stdout",
          "text": [
            "White defendants\n",
            "           \tLow\tHigh\n",
            "Survived   \t837\t135\t0.82\n",
            "Recidivated\t122\t90\t0.18\n",
            "Total: 1184.00\n",
            "False positive rate: 13.89\n",
            "False negative rate: 57.55\n",
            "Specificity: 0.86\n",
            "Sensitivity: 0.42\n",
            "Prevalence: 0.18\n",
            "PPV: 0.40\n",
            "NPV: 0.87\n",
            "LR+: 3.06\n",
            "LR-: 0.67\n"
          ]
        }
      ]
    },
    {
      "cell_type": "markdown",
      "source": [
        "Black defendants are twice as likely to be false positives for a Higher violent score than white defendants."
      ],
      "metadata": {
        "id": "Gcfl9WPw9aKP"
      }
    },
    {
      "cell_type": "code",
      "source": [
        "31.45 / 13.89"
      ],
      "metadata": {
        "colab": {
          "base_uri": "https://localhost:8080/"
        },
        "id": "VL3s9uZHxxzV",
        "outputId": "3a5aa417-aca0-4f88-9919-222f3ae1179b"
      },
      "execution_count": 35,
      "outputs": [
        {
          "output_type": "execute_result",
          "data": {
            "text/plain": [
              "2.2642188624910005"
            ]
          },
          "metadata": {},
          "execution_count": 35
        }
      ]
    },
    {
      "cell_type": "markdown",
      "source": [
        "White defendants are 95% more likely to get a lower score and commit another crime than Black defendants."
      ],
      "metadata": {
        "id": "wsKiT3Iu9eJf"
      }
    },
    {
      "cell_type": "code",
      "source": [
        "57.55 / 29.37\n"
      ],
      "metadata": {
        "colab": {
          "base_uri": "https://localhost:8080/"
        },
        "id": "1QnRnXAsx0a_",
        "outputId": "5c0ab098-c96d-4828-d65b-ed454dc7e385"
      },
      "execution_count": 36,
      "outputs": [
        {
          "output_type": "execute_result",
          "data": {
            "text/plain": [
              "1.9594824651004425"
            ]
          },
          "metadata": {},
          "execution_count": 36
        }
      ]
    }
  ],
  "metadata": {
    "kernelspec": {
      "display_name": "Python 3",
      "language": "python",
      "name": "python3"
    },
    "language_info": {
      "codemirror_mode": {
        "name": "ipython",
        "version": 3
      },
      "file_extension": ".py",
      "mimetype": "text/x-python",
      "name": "python",
      "nbconvert_exporter": "python",
      "pygments_lexer": "ipython3",
      "version": "3.5.2"
    },
    "colab": {
      "provenance": []
    }
  },
  "nbformat": 4,
  "nbformat_minor": 0
}